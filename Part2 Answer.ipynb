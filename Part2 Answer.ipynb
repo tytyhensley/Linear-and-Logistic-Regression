{
 "cells": [
  {
   "cell_type": "markdown",
   "metadata": {},
   "source": [
    "#   REPORT for Part B: Logistic Regression\n",
    "\n",
    "The breast cancer datasets is used to predict the likelihood of a woman getting breast cancer dependent on various criteria. With this machine language structure, a logistic regression was used to obtin a prediction. The structure utilizes various logistic fucntions from sigmoid, hypothesis to log likelihood. These are used to plot the points of the data into a bound real function that is defined for all real input values and has no non negative derivaives. this allows us to get only a positive (1) or a negtive(0) and nothig in between, which maks it easy to account for any false negatives and positives. "
   ]
  },
  {
   "cell_type": "markdown",
   "metadata": {},
   "source": [
    "### Importing the standard libraries and breast cancer dataset\n",
    "\n",
    "The y value was reshaped in order to make a column vector"
   ]
  },
  {
   "cell_type": "code",
   "execution_count": 1,
   "metadata": {},
   "outputs": [],
   "source": [
    "import numpy as np\n",
    "import matplotlib.pyplot as plt \n",
    "import math\n",
    "import sklearn\n",
    "from sklearn import preprocessing\n",
    "from sklearn.datasets import load_breast_cancer\n",
    "from sklearn.model_selection import train_test_split"
   ]
  },
  {
   "cell_type": "code",
   "execution_count": 2,
   "metadata": {},
   "outputs": [],
   "source": [
    "# Load dataset to a python variable cancer\n",
    "# Store target to a variable called y\n",
    "# Store feature to a variable called X\n",
    "\n",
    "breast_data = load_breast_cancer()\n",
    "\n",
    "X = breast_data.data\n",
    "y = breast_data.target\n",
    "y = y.reshape(-1,1)# shapes y into a 569,1 matrix which helps with operations and calculations"
   ]
  },
  {
   "cell_type": "code",
   "execution_count": 3,
   "metadata": {},
   "outputs": [
    {
     "name": "stdout",
     "output_type": "stream",
     "text": [
      "(569, 30)\n",
      "(569, 1)\n"
     ]
    }
   ],
   "source": [
    "# Printing the shape of data (X) and target (Y) values \n",
    "\n",
    "print(X.shape)\n",
    "print(y.shape) "
   ]
  },
  {
   "cell_type": "markdown",
   "metadata": {},
   "source": [
    "### Data Pre-Processing\n",
    "\n",
    "#### Splitting the data into train and test before scaling the dataset and then caling it as gradient ascent will be used"
   ]
  },
  {
   "cell_type": "code",
   "execution_count": 4,
   "metadata": {},
   "outputs": [],
   "source": [
    "# Use train_test_split() function to split the dataset\n",
    "# Store the return value of previous step to X_train, X_test, y_train, y_test\n",
    "\n",
    "#using the train test split function to have a 75/25 split for the train and test subsets respectively and divided into X and y columns \n",
    "X_train, X_test, y_train, y_test = train_test_split(X, y, test_size=0.25)"
   ]
  },
  {
   "cell_type": "code",
   "execution_count": 5,
   "metadata": {},
   "outputs": [],
   "source": [
    "# Find the scaler of the dataset by using preprocessing.StandardScaler().fit()\n",
    "# Using this scale to scale the X_train and X_test using .transform()\n",
    "\n",
    "#dataset used was X and it correlates to the data in the breast \n",
    "scaler=preprocessing.StandardScaler().fit(X_train)\n",
    "X_train = scaler.transform(X_train)\n",
    "X_test = scaler.transform(X_test)"
   ]
  },
  {
   "cell_type": "code",
   "execution_count": 6,
   "metadata": {},
   "outputs": [
    {
     "name": "stdout",
     "output_type": "stream",
     "text": [
      "(426, 30)\n",
      "(426, 1)\n"
     ]
    }
   ],
   "source": [
    "# TODO - Print the shape of x_train and y_train \n",
    "# print(X_train.shape) # It should print (426, 30)\n",
    "# print(y_train.shape) # It should print (426,)\n",
    "print(X_train.shape)\n",
    "print(y_train.shape)"
   ]
  },
  {
   "cell_type": "markdown",
   "metadata": {},
   "source": [
    "#### Adding a column of ones to the  matrices $X_{train}$ and  $X_{test}$\n",
    "After adding a column of ones $X_{train}=\\left[\\begin{matrix}\n",
    "1& x^{(1)}_1& x^{(1)}_2 &\\ldots& x^{(1)}_d\\\\\n",
    "1& x^{(2)}_1& x^{(2)}_2 &\\ldots& x^{(2)}_d\\\\\n",
    "\\vdots & \\vdots &\\vdots & & \\vdots \\\\\n",
    "1& x^{(N')}_1& x^{(N')}_2 &\\ldots& x^{(N')}_d\\\\\n",
    "\\end{matrix}\\right]$\n",
    "\n",
    "Similarly for $X_{test}$\n",
    "\n",
    "Populating the first column of the X train dataset with ones in order to match the hypothesis fucntion that consists of the first w coefficient being multiplied by one at all times     "
   ]
  },
  {
   "cell_type": "code",
   "execution_count": 7,
   "metadata": {},
   "outputs": [
    {
     "name": "stdout",
     "output_type": "stream",
     "text": [
      "The trainng data has dimensions:  (426, 31) . The testing data has dimensions:  (143, 31)\n",
      "[[ 1.         -0.4606494  -1.51921209 -0.52895827 -0.49132968 -1.5747797\n",
      "  -1.21976641 -1.01947749 -0.95551312 -0.71640584 -0.37884191 -0.27283509\n",
      "   0.49013027 -0.36765    -0.35401257  1.10534093 -0.86108372 -0.79277011\n",
      "  -0.61933335  0.97464049  0.3585407  -0.62632899 -1.54014551 -0.7068611\n",
      "  -0.59956596 -1.61844737 -1.2104119  -1.20825122 -1.33723288 -1.01450733\n",
      "  -0.73276768]\n",
      " [ 1.         -0.01459724 -0.85209193 -0.08180982 -0.12192181 -1.15730174\n",
      "  -0.92226774 -0.84653678 -0.56644964 -0.80546441 -0.9794459  -0.68456535\n",
      "  -1.04066819 -0.61931202 -0.47989779 -0.71264698 -0.90523397 -0.70640286\n",
      "  -0.16382774 -1.08691951 -0.63030571 -0.26629784 -1.04993928 -0.30316885\n",
      "  -0.32284398 -1.22897135 -0.9716658  -0.9889906  -0.48789496 -1.25396625\n",
      "  -0.90175967]]\n"
     ]
    }
   ],
   "source": [
    "# Append a column of ones to x_train \n",
    "\n",
    "# Create a column vector of ones by using np.ones and reshape\n",
    "# Append a column of ones in the beginning of x_train by using np.hstack\n",
    "\n",
    "ones = np.ones(X_train.shape[0])#creates a single row that consists of 426 ones\n",
    "ones = ones.reshape(X_train.shape[0],1)#reshapes that row into individual column vector\n",
    "\n",
    "\n",
    "X_train = np.hstack((ones, X_train))#appends the column vector to the X_train dataset, resulting in 31 columns and a 1 being added to the beginning of each row\n",
    "\n",
    "\n",
    "# Now do the same for the test data\n",
    "one = np.ones(X_test.shape[0])#creates a single row that consists of 143 ones\n",
    "one = one.reshape(X_test.shape[0],1)#reshapes that row into individual column vector\n",
    "\n",
    "\n",
    "X_test = np.hstack((one, X_test))#appends the column vector to the X_test dataset, resulting in 31 columns and a 1 being added to the beginning of each row\n",
    "\n",
    "# We can check that everything worked correctly by:\n",
    "# Printing out the new dimensions\n",
    "print(\"The trainng data has dimensions: \", X_train.shape, \". The testing data has dimensions: \", X_test.shape)\n",
    "# Looking at the first two rows of X_train to check everything worked as expected\n",
    "print(X_train[0:2])"
   ]
  },
  {
   "cell_type": "code",
   "execution_count": 8,
   "metadata": {
    "scrolled": true
   },
   "outputs": [
    {
     "name": "stdout",
     "output_type": "stream",
     "text": [
      "['mean radius' 'mean texture' 'mean perimeter' 'mean area'\n",
      " 'mean smoothness' 'mean compactness' 'mean concavity'\n",
      " 'mean concave points' 'mean symmetry' 'mean fractal dimension'\n",
      " 'radius error' 'texture error' 'perimeter error' 'area error'\n",
      " 'smoothness error' 'compactness error' 'concavity error'\n",
      " 'concave points error' 'symmetry error' 'fractal dimension error'\n",
      " 'worst radius' 'worst texture' 'worst perimeter' 'worst area'\n",
      " 'worst smoothness' 'worst compactness' 'worst concavity'\n",
      " 'worst concave points' 'worst symmetry' 'worst fractal dimension']\n"
     ]
    }
   ],
   "source": [
    "# Printing the names of all the features\n",
    "print(breast_data.feature_names)"
   ]
  },
  {
   "cell_type": "markdown",
   "metadata": {},
   "source": [
    "##    Implemeting the sigmoid, hypothesis and log likelihood functions \n",
    "\n",
    "The sigmoid fuction consists of taking the column vector given and plotting unto the bounded fucntion which will result in getting points that are either positive or negative\n",
    "\n",
    "### Sigmoid($z$)\n",
    "The first function you will write is sigmoid($z$)\n",
    "\n",
    "sigmoid($z$) takes as input a column vector of real numbers, $z^T = [z_1, z_2, ..., z_{N'}]$, where $N'$ is the number of  examples\n",
    "\n",
    "It should produce as output a column vector $\\left[\\frac{1}{1+e^{-z_1}},\\frac{1}{1+e^{-z_2}},...,\\frac{1}{1+e^{-z_{N'}}}\\right]^T$\n",
    "\n",
    "The hypothesis fucntion includes making the X train data into a column verctor by multiplying it with w coefficients\n",
    "\n",
    "### Our hypothesis, $h({\\bf x})$\n",
    "The next  function to write is our hypothesis function. \n",
    "\n",
    "For example if our design matrix $X$ consists of single example $X=[1,x_1,x_2,\\ldots,x_d]$ and  weights ${\\bf w}^T=[w_0,w_2,\\ldots, w_d]$, it returns $h({\\bf x})=\\frac{1}{1+e^{-\\left({w_{0}\\cdot 1 +w_1\\cdot x_1+\\cdots w_d\\cdot x_d}\\right)}}$\n",
    "\n",
    "If given a  matrix consisting of $N'$ examples \n",
    "$X=\\left[\\begin{matrix}\n",
    "1& x^{(1)}_1& x^{(1)}_2 &\\ldots& x^{(1)}_d\\\\\n",
    "1& x^{(2)}_1& x^{(2)}_2 &\\ldots& x^{(2)}_d\\\\\n",
    "\\vdots & \\vdots &\\vdots & & \\vdots \\\\\n",
    "1& x^{(N')}_1& x^{(N')}_2 &\\ldots& x^{(N')}_d\\\\\n",
    "\\end{matrix}\\right]$\n",
    "and  weights ${\\bf w}^T=[w_0,w_2,\\ldots, w_d]$, the function returns a column vector\n",
    "$[h({\\bf x}^{(1)}),h({\\bf x}^{(2)},\\ldots, h({\\bf x}^{(N')}]^T$\n",
    "\n",
    "The log likelihood fuction consists of determing the likelihood that someone will have breast cancer by using the hypothesis and sigmoid fucntions. \n",
    "\n",
    "### Log-Likelihood Function.\n",
    "Write the code to calculate the log likelihood function $\\ell({\\bf w})=\\frac{1}{m}\n",
    "\\sum_{i=1}^{N'}y^{(i)}\\ln(h({\\bf x}^{(i)})) +(1- y^{(i)})\\ln(1-h({\\bf x}^{(i)}))$ where m is the number of examples in the X train dataset\n",
    "\n",
    "The input is a matrix consisting of $N'$ examples $X=\\left[\\begin{matrix}\n",
    "1& x^{(1)}_1& x^{(1)}_2 &\\ldots& x^{(1)}_d\\\\\n",
    "1& x^{(2)}_1& x^{(2)}_2 &\\ldots& x^{(2)}_d\\\\\n",
    "\\vdots & \\vdots &\\vdots & & \\vdots \\\\\n",
    "1& x^{(N')}_1& x^{(N')}_2 &\\ldots& x^{(N')}_d\\\\\n",
    "\\end{matrix}\\right]$\n",
    "and a column vector ${\\bf y}^T=[y^{(1)},y^{(2)},\\dots,y^{(N')}]$ of labels for $X$.\n",
    "\n",
    "The output is $\\ell({\\bf w})$"
   ]
  },
  {
   "cell_type": "code",
   "execution_count": 9,
   "metadata": {},
   "outputs": [],
   "source": [
    "# Write the sigmoid function\n",
    "#sigmoid function taken from project 1 lab slides\n",
    "#sigmoid function = [1/1+e^-z_1.....1/1+e^-z_N']^T for each\n",
    "\n",
    "def sigmoid(z):\n",
    "    return 1/(1 + np.exp(-z)) #returns column vector where each row is populated with 1/1+e^-z_N' "
   ]
  },
  {
   "cell_type": "code",
   "execution_count": 10,
   "metadata": {},
   "outputs": [],
   "source": [
    "# Initialize w using np.zeros()\n",
    "#w = np.zeros((X_train.shape[1], 1))#creates a single row that consists of 31 zeros\n",
    "# w = w.reshape(X_train.shape[1],1)#reshapes that row into individual column vector\n"
   ]
  },
  {
   "cell_type": "code",
   "execution_count": 11,
   "metadata": {},
   "outputs": [],
   "source": [
    "# Predict the probability that a patient has cancer \n",
    "# Write the hypothesis function\n",
    "#hypothesis function taken from project 1 slides\n",
    "#hypithesis fucntion = [h(x)^1,....,h(x)^N'] where h(x) = [1/1+e^-(w^0.1,w^1.x^1....w^d.x^d)]\n",
    "\n",
    "def hypothesis(X , w):\n",
    "    v = np.matmul(X, w)# matrix multiplication that will result in a column vector with each cell containing the summation of w^0.1,w^1.x^1....w^d.x^d\n",
    "    return sigmoid(v)\n"
   ]
  },
  {
   "cell_type": "code",
   "execution_count": 12,
   "metadata": {},
   "outputs": [],
   "source": [
    "# Write the log likelihood function\n",
    "#log likelihood function taken from project 1 slides and cost function taken from lecture 003 slides\n",
    "#log likelihood function l(w) = [y^i.(ln(h(x^i)))+ 1-y^i.(ln(1-h(x^i)))]^1+ ...+ [y^i.(ln(h(x^i)))+ 1-y^i.(ln(1-h(x^i)))]^N\n",
    "def log_likelihood(X , y , w ):\n",
    "    m = X.shape[0]\n",
    "    h = hypothesis(X, w)#get h(x) of the function from the hypothesis function implemented above \n",
    "    \n",
    "    #w = populate each row of the column vector with y^i.(ln(h(x^i)))+ 1-y^i.(ln(1-h(x^i)))\n",
    "    \n",
    "    Lw = (1/m) * np.sum((y*np.log(h))+((1-y)*np.log(1-h))) #get the total summantion of each row to complete the log likehood function\n",
    "    return Lw"
   ]
  },
  {
   "cell_type": "markdown",
   "metadata": {},
   "source": [
    "##    Finding the gradient\n",
    "\n",
    "Using the gradient function given to us in the Lecture 003 slides, the gradient ascent is calculted. w  is intialized as a column vector of zeroes and the hypothesis fucntion is used to find h(x). The gradient of the function is obtained by the dot product of X train data transposed and the difference between the plotted X data (h(x)) and y. this is then dividded by the number of training examples. w is then updated to reflect the difference in the learnigrate and the gradient. A list of every 100th likelihood value is kept "
   ]
  },
  {
   "cell_type": "code",
   "execution_count": 13,
   "metadata": {},
   "outputs": [],
   "source": [
    "# TODO - Write the gradient ascent function \n",
    "\n",
    "def Logistic_Regresion_Gradient_Ascent(X, y, learning_rate, num_iters):\n",
    "    # For every 100 iterations, store the log_likelihood for the current w\n",
    "    # Initializing log_likelihood to be an empty list \n",
    "    log_likelihood_values = []\n",
    "    \n",
    "    # Initialize w to be a zero vector of shape x_train.shape[1],1\n",
    "    w = np.zeros((X_train.shape[1], 1))\n",
    "#     w = w.reshape(X_train.shape[1],1)\n",
    "    # Initialize N to the number of training examples\n",
    "    N = X_train.shape[0]\n",
    "    \n",
    "    y = y.reshape(y.shape[0], 1)# shapes y into a 426,1 matrix which helps with operations and calculations\n",
    "    \n",
    "    for i in range(num_iters):\n",
    "        # update the w using formula \n",
    "        h = hypothesis(X, w)#get h(x) of the function from the hypothesis function implemented above \n",
    "        v = (1/N) * np.dot(X.T, h-y) #calculates the gradient from formula given  through gradient function\n",
    "        \n",
    "        w = w - (learning_rate*v) \n",
    "        \n",
    "        # append the log_likelihood values to the list for every 100 iterations\n",
    "        if (i%100 == 0):\n",
    "            Lw = log_likelihood(X, y, w) \n",
    "            \n",
    "            log_likelihood_values.append(Lw)\n",
    "    \n",
    "    return w, log_likelihood_values"
   ]
  },
  {
   "cell_type": "markdown",
   "metadata": {},
   "source": [
    "######  The hyperparameters are set and the model is ran with th eregular X train and y train dataset"
   ]
  },
  {
   "cell_type": "code",
   "execution_count": 25,
   "metadata": {},
   "outputs": [
    {
     "name": "stdout",
     "output_type": "stream",
     "text": [
      "[[-0.3479181 ]\n",
      " [-0.26846821]\n",
      " [ 0.51657668]\n",
      " [-0.16993257]\n",
      " [-0.72022694]\n",
      " [-0.32745742]\n",
      " [ 3.00469581]\n",
      " [-1.07415832]\n",
      " [-1.71089927]\n",
      " [ 0.38429594]\n",
      " [ 0.19956861]\n",
      " [-3.74768423]\n",
      " [ 0.40337874]\n",
      " [-0.49274761]\n",
      " [-2.96966265]\n",
      " [-0.79891418]\n",
      " [ 1.10607911]\n",
      " [ 1.06976183]\n",
      " [-1.25387814]\n",
      " [ 0.59692961]\n",
      " [ 1.46187475]\n",
      " [-1.61670271]\n",
      " [-3.19542022]\n",
      " [-0.56756563]\n",
      " [-2.15085816]\n",
      " [-0.1957716 ]\n",
      " [ 0.33480951]\n",
      " [-2.46646051]\n",
      " [-1.89587629]\n",
      " [-2.15487182]\n",
      " [-1.46952252]]\n",
      "_____________________________________________________\n",
      "\n",
      "\n",
      "[-0.24640406747117044, -0.0727033462563158, -0.06415637856559564, -0.05999061973560711, -0.05736644586346294, -0.055507276189742605, -0.0540861152938868, -0.05293830956490462, -0.05197351157264211, -0.0511386777401165, -0.0504006213689146, -0.049737395297107544, -0.04913380559651238, -0.04857893250782669, -0.0480646814543665, -0.04758489397826201, -0.04713477933216217, -0.04671053817129714, -0.04630910588052647, -0.04592797295181272, -0.04556505646011527, -0.04521860630584931, -0.044887135648615746, -0.04456936850820357, -0.04426419976092123, -0.04397066422355882, -0.04368791249104024, -0.043415191854722805, -0.04315183108511344, -0.042897228183748436, -0.04265084043781644, -0.04241217627639893, -0.04218078854800168, -0.041956268928252514, -0.04173824323315273, -0.041526367463272554, -0.04132032444218997, -0.04111982094140732, -0.040924585206231906, -0.04073436481431705, -0.040548924811967556, -0.04036804608380945, -0.04019152391969666, -0.04001916674928031, -0.03985079501989046, -0.03968624019756208, -0.03952534387441089, -0.03936795696829267, -0.03921393900290558, -0.039063157458314145]\n"
     ]
    }
   ],
   "source": [
    "# Set the learning_rate\n",
    "learning_rate = 0.5\n",
    "# Set the num_iters\n",
    "num_iters = 5000\n",
    "# Run the Logistic_Regresion_Gradient_Ascent() and store the returned values\n",
    "w,log_likelihood_values = Logistic_Regresion_Gradient_Ascent(X_train, y_train, learning_rate, num_iters)\n",
    "\n",
    "print(w)\n",
    "print(\"_____________________________________________________\\n\\n\") \n",
    "print(log_likelihood_values)"
   ]
  },
  {
   "cell_type": "markdown",
   "metadata": {},
   "source": [
    "######   Plotting Likelihood v/s Number of Iterations get a visual representaion of the predictions "
   ]
  },
  {
   "cell_type": "code",
   "execution_count": 26,
   "metadata": {},
   "outputs": [
    {
     "data": {
      "image/png": "[encoded data removed]",
      "text/plain": [
       "<Figure size 432x288 with 1 Axes>"
      ]
     },
     "metadata": {
      "needs_background": "light"
     },
     "output_type": "display_data"
    }
   ],
   "source": [
    "# Run this cell to plot Likelihood v/s Number of Iterations.\n",
    "iters = np.array(range(0,num_iters,100))\n",
    "plt.plot(iters,log_likelihood_values,'.-',color='green')\n",
    "plt.xlabel('Number of iterations')\n",
    "plt.ylabel('Likelihood')\n",
    "plt.title(\"Likelihood vs Number of Iterations.\")\n",
    "plt.grid()"
   ]
  },
  {
   "cell_type": "markdown",
   "metadata": {},
   "source": [
    "##  Evaluating your model\n",
    "\n",
    "Getting the predicted values of the X test dataset using the hypothsesis function and then evaluating the accuracy of the model by calculating the frequecy of slas positives and negatives and true positives and negatives. This is done by comparing thevalue of the y test data set and seeing whether it is positive (1) or negative(0) and then using the prdicted value to see whether it is larger than (positive) or smaller(negative) than 0.5. If they are the same then it is true, else ti is false. Afterwards the precision (The % of correctly predicted sample among all the samples that predicted 1), recall (The % of correctly predicted sample among all the samples that are actually 1) and f1 scale (A measure that combines precisionand recall)."
   ]
  },
  {
   "cell_type": "code",
   "execution_count": 27,
   "metadata": {},
   "outputs": [],
   "source": [
    "# use hypothesis(...) to predict.\n",
    "    \n",
    "pred_y = hypothesis(X_test, w)"
   ]
  },
  {
   "cell_type": "code",
   "execution_count": 28,
   "metadata": {},
   "outputs": [
    {
     "name": "stdout",
     "output_type": "stream",
     "text": [
      "Precision:  0.9767441860465116\n",
      "Recall:  0.9767441860465116\n",
      "F1:  0.9767441860465116\n",
      "Confusion Matrix: \n",
      "TP:  84  FN:  2  FP:  2  TN:  55\n"
     ]
    }
   ],
   "source": [
    "#using confusion matrix information and equations given in project 1 slides\n",
    "TP=0\n",
    "FP=0\n",
    "FN=0\n",
    "TN=0\n",
    "\n",
    "for i in range(y_test.shape[0]):\n",
    "    # count TP,FP,FN,FP\n",
    "    if y_test[i] == 1: #test values are either 0 and 1, where 1 is positive and 0 is negative\n",
    "        if (pred_y[i] < 0.5) :#if the predicted value is less than 0.5 closer to 0 than to 1 then this is a false postive based on project 1 slides\n",
    "            FP+=1\n",
    "        else:\n",
    "            TP+=1\n",
    "    if y_test[i] == 0: \n",
    "        if (pred_y[i] < 0.5) :#if the predicted value is less than 0.5 closer to 0 than to 1 then this is a true negative based on project 1 slides\n",
    "            TN+=1\n",
    "        else:\n",
    "            FN+=1\n",
    "            \n",
    "# calculate precision, recall and f1\n",
    "precision = TP/(TP+FP)\n",
    "recall = TP/(TP+FN)\n",
    "f1 = 2*((precision*recall) / (precision + recall))\n",
    "\n",
    "print(\"Precision: \",precision)\n",
    "print(\"Recall: \",recall)\n",
    "print(\"F1: \",f1)\n",
    "print(\"Confusion Matrix: \")\n",
    "print(\"TP: \",TP,\" FN: \",FN,\" FP: \",FP,\" TN: \",TN)"
   ]
  },
  {
   "cell_type": "code",
   "execution_count": null,
   "metadata": {},
   "outputs": [],
   "source": []
  }
 ],
 "metadata": {
  "kernelspec": {
   "display_name": "Python 3",
   "language": "python",
   "name": "python3"
  },
  "language_info": {
   "codemirror_mode": {
    "name": "ipython",
    "version": 3
   },
   "file_extension": ".py",
   "mimetype": "text/x-python",
   "name": "python",
   "nbconvert_exporter": "python",
   "pygments_lexer": "ipython3",
   "version": "3.8.5"
  }
 },
 "nbformat": 4,
 "nbformat_minor": 2
}
